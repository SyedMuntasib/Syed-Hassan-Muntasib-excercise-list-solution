{
 "cells": [
  {
   "cell_type": "code",
   "execution_count": 134,
   "metadata": {},
   "outputs": [
    {
     "name": "stdout",
     "output_type": "stream",
     "text": [
      "['HP', 'Dell', 'Asus', 'Macbook', 'Lenovo']\n"
     ]
    }
   ],
   "source": [
    "laptop_companies = ['HP', 'Dell', 'Asus', 'Macbook', 'Lenovo']\n",
    "print(laptop_companies)\n"
   ]
  },
  {
   "cell_type": "code",
   "execution_count": 135,
   "metadata": {},
   "outputs": [],
   "source": [
    "laptop_companies.append('Toshiba')\n"
   ]
  },
  {
   "cell_type": "markdown",
   "metadata": {},
   "source": [
    "Description: Append adds value at the end of the list.\n",
    "Syntax: list_name.append('value...')\n",
    "Return Type = None"
   ]
  },
  {
   "cell_type": "code",
   "execution_count": 136,
   "metadata": {},
   "outputs": [],
   "source": [
    "laptop_companies.insert(0, 'MSI')"
   ]
  },
  {
   "cell_type": "markdown",
   "metadata": {},
   "source": [
    "Description: Insert adds value in the list with a specified index.\n",
    "Syntax: list_name.insert(index_number,'value...')\n",
    "Return Type = None"
   ]
  },
  {
   "cell_type": "code",
   "execution_count": 137,
   "metadata": {},
   "outputs": [],
   "source": [
    "laptop_companies.remove('Lenovo')"
   ]
  },
  {
   "cell_type": "markdown",
   "metadata": {},
   "source": [
    "Description: Remove deletes value from the list.\n",
    "Syntax: list_name.remove('value...')\n",
    "Return Type = None"
   ]
  },
  {
   "cell_type": "code",
   "execution_count": 138,
   "metadata": {},
   "outputs": [
    {
     "data": {
      "text/plain": [
       "'HP'"
      ]
     },
     "execution_count": 138,
     "metadata": {},
     "output_type": "execute_result"
    }
   ],
   "source": [
    "laptop_companies.pop(1)"
   ]
  },
  {
   "cell_type": "markdown",
   "metadata": {},
   "source": [
    "Description: Pop deletes value from the list with and without specified index. If we don't use the index pop will delete the last value of the list. If we use the index number of the value pop will delete that value of the list.\n",
    "Syntax: list_name.pop(index_number) and list_name.pop() \n",
    "Return Type = Deleted_Value"
   ]
  },
  {
   "cell_type": "code",
   "execution_count": 139,
   "metadata": {},
   "outputs": [
    {
     "data": {
      "text/plain": [
       "1"
      ]
     },
     "execution_count": 139,
     "metadata": {},
     "output_type": "execute_result"
    }
   ],
   "source": [
    "laptop_companies.count('Dell')"
   ]
  },
  {
   "cell_type": "markdown",
   "metadata": {},
   "source": [
    "Description: Count method counts the occurrences of a value in the list.\n",
    "Syntax: list_name.count('value...')\n",
    "Return Type = number of occurrences of a value."
   ]
  },
  {
   "cell_type": "code",
   "execution_count": 140,
   "metadata": {},
   "outputs": [
    {
     "data": {
      "text/plain": [
       "2"
      ]
     },
     "execution_count": 140,
     "metadata": {},
     "output_type": "execute_result"
    }
   ],
   "source": [
    "laptop_companies.index('Asus')"
   ]
  },
  {
   "cell_type": "markdown",
   "metadata": {},
   "source": [
    "Description: Index method is used to check the index number of a value in the list.\n",
    "Syntax: list_name.index('value...')\n",
    "Return Type = index_number of the value"
   ]
  },
  {
   "cell_type": "code",
   "execution_count": 141,
   "metadata": {},
   "outputs": [],
   "source": [
    "laptop_companies.sort()"
   ]
  },
  {
   "cell_type": "markdown",
   "metadata": {},
   "source": [
    "Description: Sort method is used to sort the values in the list either ascending or alphabetically.\n",
    "Syntax: list_name.sort()\n",
    "Return Type = None"
   ]
  },
  {
   "cell_type": "code",
   "execution_count": 142,
   "metadata": {},
   "outputs": [],
   "source": [
    "laptop_companies.reverse()"
   ]
  },
  {
   "cell_type": "markdown",
   "metadata": {},
   "source": [
    "Description: Reverse method is used to reverse the order of values in the list.\n",
    "Syntax: list_name.reverse()\n",
    "Return Type = None"
   ]
  },
  {
   "cell_type": "code",
   "execution_count": 143,
   "metadata": {},
   "outputs": [],
   "source": [
    "laptop_companies25 = laptop_companies.copy()"
   ]
  },
  {
   "cell_type": "markdown",
   "metadata": {},
   "source": [
    "Description: Copy method is used to copy all values in the list.\n",
    "Syntax: list_name.copy()\n",
    "Return Type = None"
   ]
  },
  {
   "cell_type": "code",
   "execution_count": 144,
   "metadata": {},
   "outputs": [
    {
     "name": "stdout",
     "output_type": "stream",
     "text": [
      "2495340906816\n",
      "2495340924032\n"
     ]
    }
   ],
   "source": [
    "print(id(laptop_companies25))\n",
    "print(id(laptop_companies))"
   ]
  },
  {
   "cell_type": "code",
   "execution_count": 145,
   "metadata": {},
   "outputs": [],
   "source": [
    "laptop_companies.extend(laptop_companies25)"
   ]
  },
  {
   "cell_type": "markdown",
   "metadata": {},
   "source": [
    "Description: Extend method is used to merger values of two list.\n",
    "Syntax: list_name.extend(2nd list_name)\n",
    "Return Type = None"
   ]
  },
  {
   "cell_type": "code",
   "execution_count": 146,
   "metadata": {},
   "outputs": [],
   "source": [
    "laptop_companies.clear()"
   ]
  },
  {
   "cell_type": "markdown",
   "metadata": {},
   "source": [
    "Description: Clear method is used to delete all values from a list.\n",
    "Syntax: list_name.clear()\n",
    "Return Type = None"
   ]
  }
 ],
 "metadata": {
  "kernelspec": {
   "display_name": "Python 3",
   "language": "python",
   "name": "python3"
  },
  "language_info": {
   "codemirror_mode": {
    "name": "ipython",
    "version": 3
   },
   "file_extension": ".py",
   "mimetype": "text/x-python",
   "name": "python",
   "nbconvert_exporter": "python",
   "pygments_lexer": "ipython3",
   "version": "3.12.4"
  }
 },
 "nbformat": 4,
 "nbformat_minor": 2
}
