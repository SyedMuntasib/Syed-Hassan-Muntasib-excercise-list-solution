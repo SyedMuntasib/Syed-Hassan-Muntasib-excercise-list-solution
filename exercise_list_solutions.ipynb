{
 "cells": [
  {
   "cell_type": "code",
   "execution_count": 187,
   "metadata": {},
   "outputs": [
    {
     "name": "stdout",
     "output_type": "stream",
     "text": [
      "Kamran\n",
      "Arslan\n",
      "Yahya\n",
      "Noman\n",
      "Ashraf\n",
      "Mohsin\n"
     ]
    }
   ],
   "source": [
    "names = [\"Kamran\", \"Arslan\", \"Yahya\", \"Noman\", \"Ashraf\", \"Mohsin\",]\n",
    "print(names[0])\n",
    "print(names[1])\n",
    "print(names[2])\n",
    "print(names[3])\n",
    "print(names[4])\n",
    "print(names[5])"
   ]
  },
  {
   "cell_type": "code",
   "execution_count": 188,
   "metadata": {},
   "outputs": [
    {
     "name": "stdout",
     "output_type": "stream",
     "text": [
      "Hi Kamran, How are you?\n",
      "Hi Arslan, How are you?\n",
      "Hi Yahya, How are you?\n",
      "Hi Noman, How are you?\n",
      "Hi Ashraf, How are you?\n",
      "Hi Mohsin, How are you?\n"
     ]
    }
   ],
   "source": [
    "Greeting = \"How are you?\"\n",
    "print(f\"Hi {names [0]}, {Greeting}\")\n",
    "print(f\"Hi {names [1]}, {Greeting}\")\n",
    "print(f\"Hi {names [2]}, {Greeting}\")\n",
    "print(f\"Hi {names [3]}, {Greeting}\")\n",
    "print(f\"Hi {names [4]}, {Greeting}\")\n",
    "print(f\"Hi {names [5]}, {Greeting}\")"
   ]
  },
  {
   "cell_type": "code",
   "execution_count": 189,
   "metadata": {},
   "outputs": [
    {
     "name": "stdout",
     "output_type": "stream",
     "text": [
      "I want to tavel on pamir highway with my Honda bike.\n",
      "I want to buy a car of BMW.\n"
     ]
    }
   ],
   "source": [
    "favorite_brand = [\"Honda\", \"Suzuki\", \"Kawasaki\", \"Ducati\", \"BMW\"]\n",
    "favorite_transport = [\"bike\", \"car\"]\n",
    "print(f\"I want to tavel on pamir highway with my {favorite_brand[0]} {favorite_transport[0]}.\")\n",
    "print(f\"I want to buy a {favorite_transport[1]} of {favorite_brand[-1]}.\")\n"
   ]
  },
  {
   "cell_type": "code",
   "execution_count": 190,
   "metadata": {},
   "outputs": [
    {
     "name": "stdout",
     "output_type": "stream",
     "text": [
      "Hi Syed Wasif, \"I want to invite you to a dinner party as it's been a long time we didn't get to meet.\"\n",
      "Hi Farhan Achoo, \"I want to  invite you to a dinner party as it's been a long time we didn't get to meet.\"\n",
      "Hi Sultan, \"I want to invite you to a dinner party as it's been a long time we didn't get to meet.\"\n"
     ]
    }
   ],
   "source": [
    "guest_list = [\"Syed Wasif\", \"Farhan Achoo\", \"Sultan\"]\n",
    "print(f'Hi {guest_list[0]}, ''''\"I want to invite you to a dinner party as it's been a long time we didn't get to meet.\"''')\n",
    "print(f'Hi {guest_list[1]}, ''''\"I want to  invite you to a dinner party as it's been a long time we didn't get to meet.\"''')\n",
    "print(f'Hi {guest_list[2]}, ''''\"I want to invite you to a dinner party as it's been a long time we didn't get to meet.\"''')"
   ]
  },
  {
   "cell_type": "code",
   "execution_count": 191,
   "metadata": {},
   "outputs": [
    {
     "name": "stdout",
     "output_type": "stream",
     "text": [
      "Unfortunately, Farhan Achoo, can't make it to dinner'\n",
      "Hi Syed Wasif, \"I want to invite you to a dinner party as it's been a long time we didn't get to meet.\"\n",
      "Hi Munj, \"I want to invite you to a dinner party as it's been a long time we didn't get to meet.\"\n",
      "Hi Sultan, \"I want to invite you to a dinner party as it's been a long time we didn't get to meet.\"\n"
     ]
    }
   ],
   "source": [
    "unable_to_join = guest_list[1]\n",
    "print(f\"Unfortunately, {unable_to_join}, can't make it to dinner'\")\n",
    "guest_list[1] = \"Munj\"\n",
    "print(f'Hi {guest_list[0]}, ''''\"I want to invite you to a dinner party as it's been a long time we didn't get to meet.\"''')\n",
    "print(f'Hi {guest_list[1]}, ''''\"I want to invite you to a dinner party as it's been a long time we didn't get to meet.\"''')\n",
    "print(f'Hi {guest_list[2]}, ''''\"I want to invite you to a dinner party as it's been a long time we didn't get to meet.\"''')"
   ]
  },
  {
   "cell_type": "code",
   "execution_count": 192,
   "metadata": {},
   "outputs": [
    {
     "name": "stdout",
     "output_type": "stream",
     "text": [
      "I have found a bigger table for the dinner\n",
      "Hi Arslan, \"I want to invite you to a dinner party as it's been a long time we didn't get to meet.\"\n",
      "Hi Syed Wasif, \"I want to invite you to a dinner party as it's been a long time we didn't get to meet.\"\n",
      "Hi Yahya, \"I want to invite you to a dinner party as it's been a long time we didn't get to meet.\"\n",
      "Hi Munj, \"I want to invite you to a dinner party as it's been a long time we didn't get to meet.\"\n",
      "Hi Sultan, \"I want to invite you to a dinner party as it's been a long time we didn't get to meet.\"\n",
      "Hi Ahsan, \"I want to invite you to a dinner party as it's been a long time we didn't get to meet.\"\n"
     ]
    }
   ],
   "source": [
    "print(\"I have found a bigger table for the dinner\")\n",
    "guest_list.insert(0,'Arslan')\n",
    "guest_list.insert(2,'Yahya')\n",
    "guest_list.append('Ahsan')\n",
    "print(f'Hi {guest_list[0]}, ''''\"I want to invite you to a dinner party as it's been a long time we didn't get to meet.\"''')\n",
    "print(f'Hi {guest_list[1]}, ''''\"I want to invite you to a dinner party as it's been a long time we didn't get to meet.\"''')\n",
    "print(f'Hi {guest_list[2]}, ''''\"I want to invite you to a dinner party as it's been a long time we didn't get to meet.\"''')\n",
    "print(f'Hi {guest_list[3]}, ''''\"I want to invite you to a dinner party as it's been a long time we didn't get to meet.\"''')\n",
    "print(f'Hi {guest_list[4]}, ''''\"I want to invite you to a dinner party as it's been a long time we didn't get to meet.\"''')\n",
    "print(f'Hi {guest_list[5]}, ''''\"I want to invite you to a dinner party as it's been a long time we didn't get to meet.\"''')\n"
   ]
  },
  {
   "cell_type": "code",
   "execution_count": 193,
   "metadata": {},
   "outputs": [
    {
     "name": "stdout",
     "output_type": "stream",
     "text": [
      "Unfortunately,I can only invite two people.\n",
      "Hi Ahsan, I can't invite you to dinner.\n",
      "Hi Sultan, I can't invite you to dinner.\n",
      "Hi Munj, I can't invite you to dinner.\n",
      "Hi Yahya, I can't invite you to dinner.\n",
      "Hi Arslan, I want to invite you to dinner. Let's have fun together\n",
      "Hi Syed Wasif, I want to invite you to dinner.Let's have fun together\n",
      "[]\n"
     ]
    }
   ],
   "source": [
    "print('Unfortunately,I can only invite two people.')\n",
    "popped_guests = guest_list.pop()\n",
    "print(f\"Hi {popped_guests}, I can't invite you to dinner.\")\n",
    "popped_guests = guest_list.pop()\n",
    "print(f\"Hi {popped_guests}, I can't invite you to dinner.\")\n",
    "popped_guests = guest_list.pop()\n",
    "print(f\"Hi {popped_guests}, I can't invite you to dinner.\")\n",
    "popped_guests = guest_list.pop()\n",
    "print(f\"Hi {popped_guests}, I can't invite you to dinner.\")\n",
    "print(f\"Hi {guest_list[0]}, I want to invite you to dinner. Let's have fun together\")\n",
    "print(f\"Hi {guest_list[1]}, I want to invite you to dinner.Let's have fun together\")\n",
    "del guest_list[1]\n",
    "del guest_list[0]\n",
    "print(guest_list)"
   ]
  },
  {
   "cell_type": "code",
   "execution_count": 194,
   "metadata": {},
   "outputs": [
    {
     "name": "stdout",
     "output_type": "stream",
     "text": [
      "['Los Vegas', 'Paris', 'Istanbul', 'Amazon', 'Zurich']\n",
      "['Amazon', 'Istanbul', 'Los Vegas', 'Paris', 'Zurich']\n",
      "['Los Vegas', 'Paris', 'Istanbul', 'Amazon', 'Zurich']\n",
      "['Zurich', 'Paris', 'Los Vegas', 'Istanbul', 'Amazon']\n",
      "['Los Vegas', 'Paris', 'Istanbul', 'Amazon', 'Zurich']\n",
      "['Zurich', 'Amazon', 'Istanbul', 'Paris', 'Los Vegas']\n",
      "['Los Vegas', 'Paris', 'Istanbul', 'Amazon', 'Zurich']\n",
      "['Amazon', 'Istanbul', 'Los Vegas', 'Paris', 'Zurich']\n",
      "['Zurich', 'Paris', 'Los Vegas', 'Istanbul', 'Amazon']\n"
     ]
    }
   ],
   "source": [
    "best_places = ['Los Vegas', 'Paris', 'Istanbul', 'Amazon', 'Zurich']\n",
    "print(best_places)\n",
    "print(sorted(best_places))\n",
    "print(best_places)\n",
    "print(sorted(best_places, reverse=True))\n",
    "print(best_places)\n",
    "best_places.reverse()\n",
    "print(best_places)\n",
    "best_places.reverse()\n",
    "print(best_places)\n",
    "best_places.sort()\n",
    "print(best_places)\n",
    "best_places.sort(reverse=True)\n",
    "print(best_places)\n",
    "\n",
    "\n",
    "\n"
   ]
  },
  {
   "cell_type": "code",
   "execution_count": 195,
   "metadata": {},
   "outputs": [
    {
     "name": "stdout",
     "output_type": "stream",
     "text": [
      "['k2', 'everest', 'nangaparbat', 'rakaposhi', 'kelash']\n",
      "['ravi', 'chenab', 'nile', 'amazon', 'jehlum']\n",
      "['Pakistan', 'Canada', 'United States', 'India']\n",
      "['English', 'Urdu', 'Greek', 'Chinese', 'Russian']\n",
      "['k2', 'everest', 'nangaparbat', 'rakaposhi', 'kelash', 'Kangchenjunga']\n",
      "['ravi', 'chenab', 'Ganges', 'nile', 'amazon', 'jehlum']\n",
      "['Pakistan', 'Canada', 'United States', 'India', 'China', 'Japan', 'South Korea']\n",
      "['English', 'Urdu', 'Greek', 'Spanish', 'Chinese', 'Russian']\n",
      "['Kangchenjunga', 'kelash', 'rakaposhi', 'nangaparbat', 'everest', 'k2']\n",
      "['Ganges', 'amazon', 'chenab', 'jehlum', 'nile', 'ravi']\n",
      "['Pakistan', 'Canada', 'United States', 'China', 'Japan', 'South Korea']\n",
      "['English', 'Urdu', 'Spanish', 'Chinese', 'Russian']\n"
     ]
    }
   ],
   "source": [
    "mountains = ['k2', 'everest', 'nangaparbat', 'rakaposhi', 'kelash']\n",
    "river = ['ravi', 'chenab', 'nile', 'amazon', 'jehlum']\n",
    "countries = ['Pakistan', 'Canada', 'United States', 'India']\n",
    "language = ['English', 'Urdu', 'Greek', 'Chinese', 'Russian']\n",
    "print(mountains)\n",
    "print(river)\n",
    "print(countries)\n",
    "print(language)\n",
    "mountains.append('Kangchenjunga')\n",
    "river.insert(2, 'Ganges')\n",
    "countries.extend(['China', 'Japan', 'South Korea'])\n",
    "language.insert(3, 'Spanish')\n",
    "print(mountains)\n",
    "print(river)\n",
    "print(countries)\n",
    "print(language)\n",
    "del countries[-4]\n",
    "language.pop(2)\n",
    "river.sort()\n",
    "mountains.reverse()\n",
    "print(mountains)\n",
    "print(river)\n",
    "print(countries)\n",
    "print(language)\n"
   ]
  }
 ],
 "metadata": {
  "kernelspec": {
   "display_name": "Python 3",
   "language": "python",
   "name": "python3"
  },
  "language_info": {
   "codemirror_mode": {
    "name": "ipython",
    "version": 3
   },
   "file_extension": ".py",
   "mimetype": "text/x-python",
   "name": "python",
   "nbconvert_exporter": "python",
   "pygments_lexer": "ipython3",
   "version": "3.12.4"
  }
 },
 "nbformat": 4,
 "nbformat_minor": 2
}
